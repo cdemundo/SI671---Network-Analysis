{
 "cells": [
  {
   "cell_type": "code",
   "execution_count": 1,
   "metadata": {},
   "outputs": [],
   "source": [
    "import networkx as nx\n",
    "import numpy as np\n",
    "import pandas as pd\n",
    "%matplotlib inline"
   ]
  },
  {
   "cell_type": "code",
   "execution_count": null,
   "metadata": {},
   "outputs": [],
   "source": [
    "filePath = 'C:\\\\Users\\\\Chris\\\\Desktop\\\\SI671Data\\\\network.tsv'\n",
    "\n",
    "network_df = pd.read_csv('C:/Users/Chris/Desktop/SI671Data/network.tsv', sep='\\t', names=['node', 'edge'])\n",
    "G = nx.from_pandas_edgelist(network_df, source='node', target='edge')"
   ]
  },
  {
   "cell_type": "markdown",
   "metadata": {},
   "source": [
    "Try to do a DFS from a random node and see how big of a component we generate. "
   ]
  },
  {
   "cell_type": "code",
   "execution_count": 2,
   "metadata": {},
   "outputs": [],
   "source": [
    "#uncomment if need to make a new G_sub, working with one from file now\n",
    "#from random import choice\n",
    "#node_list = list(G.nodes())\n",
    "#G_sub = nx.ego_graph(G=G, n=choice(node_list), radius=4)\n",
    "\n",
    "G_sub = nx.read_edgelist('g_sub.edgelist')"
   ]
  },
  {
   "cell_type": "code",
   "execution_count": 3,
   "metadata": {},
   "outputs": [
    {
     "data": {
      "text/plain": [
       "114403"
      ]
     },
     "execution_count": 3,
     "metadata": {},
     "output_type": "execute_result"
    }
   ],
   "source": [
    "len(G_sub.node())"
   ]
  },
  {
   "cell_type": "markdown",
   "metadata": {},
   "source": [
    "'786434', '2918035', '6553603'"
   ]
  },
  {
   "cell_type": "code",
   "execution_count": 49,
   "metadata": {},
   "outputs": [
    {
     "data": {
      "text/plain": [
       "0.08571428571428572"
      ]
     },
     "execution_count": 49,
     "metadata": {},
     "output_type": "execute_result"
    }
   ],
   "source": [
    "#Theory - we can initially filter on jaccard similarity between neighbors.\n",
    "#If A and B are good friends, by some similarity measure, A is more likely to add B's friends. \n",
    "#We don't want to examine potential missing triads if A and B are not very good friends!\n",
    "\n",
    "A = '2918035'\n",
    "B = '2040012'\n",
    "\n",
    "set1 =  set([n for n in G_sub[A]])\n",
    "set2 = set([n for n in G_sub[B]])\n",
    "\n",
    "#intersection of their friends divided by total number of unique friends\n",
    "jaccard_sim = len((set1 & set2))/((len(set1)+len(set2))-(len(set1&set2)))\n",
    "\n",
    "jaccard_sim\n",
    "\n",
    "\n",
    "\n"
   ]
  },
  {
   "cell_type": "code",
   "execution_count": 67,
   "metadata": {},
   "outputs": [
    {
     "data": {
      "text/plain": [
       "0.6428571428571429"
      ]
     },
     "execution_count": 67,
     "metadata": {},
     "output_type": "execute_result"
    }
   ],
   "source": [
    "min_friends = min(len(G_sub[\"6553603\"]), len(G_sub[\"2918035\"]))\n",
    "max_friends = max(len(G_sub[\"6553603\"]), len(G_sub[\"2918035\"]))\n",
    "\n",
    "#if the person with the least friends shares all of their friends in common with the person, they will have the following jaccard sim\n",
    "min_friends/((max_friends+min_friends)-min_friends)"
   ]
  },
  {
   "cell_type": "code",
   "execution_count": 102,
   "metadata": {},
   "outputs": [],
   "source": [
    "def CalculateGoodFriends(G, node_id, potential_threshold, actual_threshold):\n",
    "    good_friends_list = []\n",
    "    #how many friends does this person have? \n",
    "    friends = len(G[node_id])\n",
    "    #for a friend of the node_id\n",
    "    for neighbor in G[node_id]:\n",
    "        #we want to evaluate max possible jaccard sim with node_id\n",
    "        #if it's not possible for them to be above .5, they can't be that good of friends, so let's exclude them right away\n",
    "        #first, count all of their friends (2nd degree connections)\n",
    "        friends_of_friends = len(G[neighbor]) \n",
    "        #check who has more total friends!\n",
    "        if friends > friends_of_friends:\n",
    "            max_jac_sim = friends_of_friends/((friends_of_friends+friends)-friends_of_friends)\n",
    "        else:\n",
    "            max_jac_sim = friends/((friends_of_friends+friends)-friends)\n",
    "\n",
    "        #if it's possible to have a jaccard sim over the threshold, actually calculate it\n",
    "        if max_jac_sim > potential_threshold: \n",
    "            friends_set =  set([n for n in G[node_id]])\n",
    "            friends_of_friends_set = set([n for n in G[neighbor]])\n",
    "\n",
    "            jaccard_sim = len((friends_set & friends_of_friends_set))/((len(friends_set)+len(friends_of_friends_set))-(len(friends_set&friends_of_friends_set)))\n",
    "            #if the actual jaccard_sim is greater than .1, let's keep them as candidates moving forward!\n",
    "            #note that this filters out 90% of potential matches that we have to search! cool\n",
    "            if jaccard_sim >= actual_threshold:\n",
    "                good_friends_list.append((neighbor))\n",
    "            \n",
    "    return [good_friends_list, friends]\n",
    "    "
   ]
  },
  {
   "cell_type": "code",
   "execution_count": 105,
   "metadata": {},
   "outputs": [
    {
     "name": "stdout",
     "output_type": "stream",
     "text": [
      "We filtered out 80.70% of connections to find 374592 actual good friends!\n"
     ]
    }
   ],
   "source": [
    "def Find_Good_Friends(G, potential_threshold, actual_threshold, max_iter): \n",
    "    good_friends = []\n",
    "    total_possible_friends = 0\n",
    "    \n",
    "    import time\n",
    "    i = 0\n",
    "    start = time.time()\n",
    "    for person in G.node():\n",
    "        if i < max_iter:\n",
    "            good_friend_results = CalculateGoodFriends(G, person, potential_threshold, actual_threshold)\n",
    "            \n",
    "            if good_friend_results is not None:\n",
    "                #keep track of how many total possible friends there were so we can know about exclusions\n",
    "                total_possible_friends += good_friend_results[1]\n",
    "\n",
    "                #if they have any good friends, store the result\n",
    "                if (len(good_friend_results[0]) > 0):\n",
    "                    for friend in good_friend_results[0]:\n",
    "                        good_friends.append((person, friend))\n",
    "            i+=1\n",
    "    return [good_friends,len(good_friends)/total_possible_friends, (time.time() - start)]\n",
    "\n",
    "results = Find_Good_Friends(G_sub, .4, .1, len(G_sub.node))\n",
    "\n",
    "print(\"We filtered out {:.2%} of connections to find {} actual good friends!\".format((1-results[1]), len(results[0])))"
   ]
  },
  {
   "cell_type": "code",
   "execution_count": 85,
   "metadata": {},
   "outputs": [
    {
     "data": {
      "text/plain": [
       "[]"
      ]
     },
     "execution_count": 85,
     "metadata": {},
     "output_type": "execute_result"
    }
   ],
   "source": [
    "results[0][0:10]"
   ]
  },
  {
   "cell_type": "code",
   "execution_count": 106,
   "metadata": {},
   "outputs": [
    {
     "name": "stdout",
     "output_type": "stream",
     "text": [
      "Wall time: 7min 54s\n"
     ]
    }
   ],
   "source": [
    "%%time\n",
    "#we now want to do the same thing to the first iteration of good friends we found\n",
    "#check through all of their friends and see who are they really connected with. \n",
    "\n",
    "two_hops_to_check = []\n",
    "\n",
    "for edge in results[0]: \n",
    "    #print(\"Source: \" + edge[0] + \" Dest: \" + edge[1])\n",
    "    #get all of their friends    \n",
    "    their_good_friends = CalculateGoodFriends(G_sub, edge[1], .5, .3)\n",
    "    \n",
    "    #edge[0] is the original node that we are looking for new links for\n",
    "    #so lets match them up to these potentials\n",
    "    for potential in their_good_friends[0]:\n",
    "        #we could potentially have duplicates - if two of your friends were friends with the same person.\n",
    "        #lets leave duplicates in because we can group on them later and count - we should weight by this! if you have 5 friends with the same friend that you aren't friends with\n",
    "        two_hops_to_check.append((edge[0], potential))\n",
    "    "
   ]
  },
  {
   "cell_type": "markdown",
   "metadata": {},
   "source": [
    "<h4> Evaluate and sort results </h4>"
   ]
  },
  {
   "cell_type": "markdown",
   "metadata": {},
   "source": [
    "Weight the Jaccard Similarity scores by the # of simultaneous friend's recommending and then sort to the top 50k new edges. "
   ]
  },
  {
   "cell_type": "code",
   "execution_count": 109,
   "metadata": {},
   "outputs": [],
   "source": [
    "df_jacc_sim = pd.DataFrame.from_records(two_hops_to_check, columns=['source', 'dest'])\n",
    "df_jacc_sim['jacc_coef'] = [i[2] for i in nx.jaccard_coefficient(G_sub, two_hops_to_check)]"
   ]
  },
  {
   "cell_type": "code",
   "execution_count": 110,
   "metadata": {},
   "outputs": [],
   "source": [
    "df_jacc_sim = df_jacc_sim[df_jacc_sim['jacc_coef'] < 1]\n",
    "df_jacc_sim = df_jacc_sim[df_jacc_sim['jacc_coef'] > 0]"
   ]
  },
  {
   "cell_type": "code",
   "execution_count": null,
   "metadata": {},
   "outputs": [],
   "source": [
    "df_jacc_sim_group = df_jacc_sim.groupby(['source', 'dest']).agg({'dest' : 'count', 'jacc_coef' : 'max'})"
   ]
  },
  {
   "cell_type": "code",
   "execution_count": 117,
   "metadata": {},
   "outputs": [],
   "source": [
    "df_jacc_sim_group['sim'] = df_jacc_sim_group['dest']*df_jacc_sim_group['jacc_coef']"
   ]
  },
  {
   "cell_type": "code",
   "execution_count": null,
   "metadata": {},
   "outputs": [],
   "source": [
    "df_jacc_sim_group = df_jacc_sim_group[['sim']].reset_index().sort_values(by = 'sim', ascending=False).iloc[0:49999]\n"
   ]
  },
  {
   "cell_type": "code",
   "execution_count": 125,
   "metadata": {},
   "outputs": [],
   "source": [
    "df_jacc_sim_group[['source', 'dest']].to_csv(\"link_predictions.txt\", header=None, index=None, sep=' ', mode='a')"
   ]
  },
  {
   "cell_type": "markdown",
   "metadata": {},
   "source": [
    "<h3> Generating Features </h3>"
   ]
  },
  {
   "cell_type": "markdown",
   "metadata": {},
   "source": [
    "Didn't actually get to this section :("
   ]
  },
  {
   "cell_type": "code",
   "execution_count": 42,
   "metadata": {},
   "outputs": [],
   "source": [
    "df = pd.DataFrame(index=G_s.edges())"
   ]
  },
  {
   "cell_type": "code",
   "execution_count": 43,
   "metadata": {},
   "outputs": [],
   "source": [
    "df['preferential attachment'] = [i[2] for i in nx.preferential_attachment(G_s, df.index)]\n",
    "df['jaccard'] = [i[2] for i in nx.jaccard_coefficient(G_s, df.index)]"
   ]
  },
  {
   "cell_type": "code",
   "execution_count": 46,
   "metadata": {},
   "outputs": [
    {
     "data": {
      "text/html": [
       "<div>\n",
       "<style scoped>\n",
       "    .dataframe tbody tr th:only-of-type {\n",
       "        vertical-align: middle;\n",
       "    }\n",
       "\n",
       "    .dataframe tbody tr th {\n",
       "        vertical-align: top;\n",
       "    }\n",
       "\n",
       "    .dataframe thead th {\n",
       "        text-align: right;\n",
       "    }\n",
       "</style>\n",
       "<table border=\"1\" class=\"dataframe\">\n",
       "  <thead>\n",
       "    <tr style=\"text-align: right;\">\n",
       "      <th></th>\n",
       "      <th></th>\n",
       "      <th>preferential attachment</th>\n",
       "      <th>jaccard</th>\n",
       "    </tr>\n",
       "  </thead>\n",
       "  <tbody>\n",
       "    <tr>\n",
       "      <th>6572838</th>\n",
       "      <th>2837156</th>\n",
       "      <td>1</td>\n",
       "      <td>0.0</td>\n",
       "    </tr>\n",
       "    <tr>\n",
       "      <th>4663414</th>\n",
       "      <th>3039020</th>\n",
       "      <td>1</td>\n",
       "      <td>0.0</td>\n",
       "    </tr>\n",
       "    <tr>\n",
       "      <th>4819921</th>\n",
       "      <th>4992755</th>\n",
       "      <td>1</td>\n",
       "      <td>0.0</td>\n",
       "    </tr>\n",
       "    <tr>\n",
       "      <th>5256045</th>\n",
       "      <th>2395166</th>\n",
       "      <td>1</td>\n",
       "      <td>0.0</td>\n",
       "    </tr>\n",
       "    <tr>\n",
       "      <th>6248813</th>\n",
       "      <th>3543337</th>\n",
       "      <td>1</td>\n",
       "      <td>0.0</td>\n",
       "    </tr>\n",
       "  </tbody>\n",
       "</table>\n",
       "</div>"
      ],
      "text/plain": [
       "                 preferential attachment  jaccard\n",
       "6572838 2837156                        1      0.0\n",
       "4663414 3039020                        1      0.0\n",
       "4819921 4992755                        1      0.0\n",
       "5256045 2395166                        1      0.0\n",
       "6248813 3543337                        1      0.0"
      ]
     },
     "execution_count": 46,
     "metadata": {},
     "output_type": "execute_result"
    }
   ],
   "source": [
    "df.sort_values(by='jaccard', ascending=False).head()"
   ]
  },
  {
   "cell_type": "markdown",
   "metadata": {},
   "source": [
    "local - look at direct neighbors of node\n",
    "\n",
    "global - look at 1st, 2nd, 3rd order connections and say what attributes they all have\n",
    "maybe frequent itemset of attributes for global?  What attributes commonly go together in the global \n",
    "   -nodes directly around say it should have T8, T10, T13\n",
    "   \n",
    "in the global section, whats the likelihood of this showing up?\n",
    " "
   ]
  },
  {
   "cell_type": "code",
   "execution_count": null,
   "metadata": {},
   "outputs": [],
   "source": []
  }
 ],
 "metadata": {
  "kernelspec": {
   "display_name": "Python 3",
   "language": "python",
   "name": "python3"
  },
  "language_info": {
   "codemirror_mode": {
    "name": "ipython",
    "version": 3
   },
   "file_extension": ".py",
   "mimetype": "text/x-python",
   "name": "python",
   "nbconvert_exporter": "python",
   "pygments_lexer": "ipython3",
   "version": "3.6.6"
  }
 },
 "nbformat": 4,
 "nbformat_minor": 2
}
