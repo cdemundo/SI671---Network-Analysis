{
 "cells": [
  {
   "cell_type": "code",
   "execution_count": 1,
   "metadata": {},
   "outputs": [],
   "source": [
    "import pandas as pd\n",
    "import numpy as np\n",
    "import networkx as nx\n",
    "import csv"
   ]
  },
  {
   "cell_type": "markdown",
   "metadata": {},
   "source": [
    "<h3> Setup </h3>"
   ]
  },
  {
   "cell_type": "markdown",
   "metadata": {},
   "source": [
    "Setup the graph and add the attributes in for each node"
   ]
  },
  {
   "cell_type": "code",
   "execution_count": 2,
   "metadata": {},
   "outputs": [
    {
     "name": "stdout",
     "output_type": "stream",
     "text": [
      "Wall time: 3min 57s\n"
     ]
    }
   ],
   "source": [
    "%%time\n",
    "network_df = pd.read_csv('C:/Users/Chris/Desktop/SI671Data/network.tsv', sep='\\t', names=['node', 'edge'])\n",
    "G = nx.from_pandas_edgelist(network_df, source='node', target='edge')"
   ]
  },
  {
   "cell_type": "code",
   "execution_count": 3,
   "metadata": {},
   "outputs": [
    {
     "name": "stdout",
     "output_type": "stream",
     "text": [
      "Wall time: 23 s\n"
     ]
    }
   ],
   "source": [
    "%%time\n",
    "node_attr_dict = {}\n",
    "with open(\"C:/Users/Chris/Desktop/SI671Data/labeled-vertices.train.tsv\") as tsvfile:\n",
    "    tsvreader = csv.reader(tsvfile, delimiter=\"\\t\")\n",
    "    #line[0] is the node\n",
    "    #line[1] is the attributes\n",
    "    for line in tsvreader:\n",
    "        attr_dict = {}\n",
    "        for attr in line[1].split(\" \"):\n",
    "            attr_split = attr.split(':')\n",
    "            attr_dict[attr_split[0]] = attr_split[1]\n",
    "            \n",
    "        #create dict of form\n",
    "        #{node_id: {attr1:val1, attr2:val2}, node_id2..}\n",
    "        node_attr_dict[int(line[0])] = attr_dict\n",
    "len(node_attr_dict)"
   ]
  },
  {
   "cell_type": "code",
   "execution_count": 4,
   "metadata": {},
   "outputs": [
    {
     "name": "stdout",
     "output_type": "stream",
     "text": [
      "Wall time: 47.3 s\n"
     ]
    }
   ],
   "source": [
    "%%time\n",
    "nx.set_node_attributes(G, node_attr_dict)"
   ]
  },
  {
   "cell_type": "markdown",
   "metadata": {},
   "source": [
    "<h3> Attr Prediction </h3>"
   ]
  },
  {
   "cell_type": "markdown",
   "metadata": {},
   "source": [
    "Get the nodes we want to predict on"
   ]
  },
  {
   "cell_type": "code",
   "execution_count": 143,
   "metadata": {},
   "outputs": [
    {
     "data": {
      "text/plain": [
       "662675"
      ]
     },
     "execution_count": 143,
     "metadata": {},
     "output_type": "execute_result"
    }
   ],
   "source": [
    "test_nodes = []\n",
    "\n",
    "with open ('C:/Users/Chris/Desktop/SI671Data/unlabeled-vertices.test.txt') as file:\n",
    "    reader = csv.reader(file)\n",
    "    for line in reader:\n",
    "        test_nodes.append(int(line[0]))\n",
    "\n",
    "len(test_nodes)"
   ]
  },
  {
   "cell_type": "markdown",
   "metadata": {},
   "source": [
    "Goal is to build a nearest-neighbor-esque algorithm.  If a node has lots of friends (direct links) we will let their direct links vote on the top attributes.  If a node has few friends, we will look at second degree links and let them vote.  "
   ]
  },
  {
   "cell_type": "code",
   "execution_count": 18,
   "metadata": {},
   "outputs": [],
   "source": [
    "def GetAttributeVotes(node):\n",
    "    from collections import Counter\n",
    "    attrs = []\n",
    "    \n",
    "    #if the node has at least 3 friends, let them vote on the attributes\n",
    "    if len([n for n in G[node]]) > 3: \n",
    "        for n in G[node]:\n",
    "            for a in G.node[n].items():\n",
    "                attrs.append(a)\n",
    "    else: #since they had less than 3 friends, let's go one step out and let second degree connections vote\n",
    "        for n in G[node]:\n",
    "            #for neighbors of neighbors\n",
    "            for n_2 in G[n]:\n",
    "                for a in G.node[n].items():\n",
    "                    attrs.append(a)\n",
    "                \n",
    "    #for the results we got back - sort them\n",
    "    counts = sorted([(count,) + item for item, count in Counter(attrs).items()], key=lambda tup: tup[0], reverse = True)\n",
    "    #and now lets take only the top results for each attribute\n",
    "    attr_dict = {}\n",
    "    for tup in counts:\n",
    "        if tup[1] not in attr_dict:\n",
    "            attr_dict[tup[1]] = tup[2]\n",
    "        else:\n",
    "            #attr already in dict - lets count if this value has higher votes\n",
    "            if int(attr_dict[tup[1]]) > int(tup[0]):\n",
    "                pass\n",
    "            else:\n",
    "                #reset the value of the attribute to the new value\n",
    "                attr_dict[tup[1]] = tup[2]\n",
    "    return attr_dict\n",
    "\n",
    "def PredictAttributes(G_whole, test_nodes, max_iter):\n",
    "    i = 0\n",
    "    attr_preds = {}\n",
    "    for node in test_nodes:\n",
    "        if i<max_iter:          \n",
    "            attributes = GetAttributeVotes(node)\n",
    "\n",
    "            attr_preds[node] = attributes\n",
    "            i+=1\n",
    "    return attr_preds"
   ]
  },
  {
   "cell_type": "code",
   "execution_count": null,
   "metadata": {},
   "outputs": [],
   "source": [
    "%%time\n",
    "vals = PredictAttributes(G, test_nodes, len(test_nodes))"
   ]
  },
  {
   "cell_type": "markdown",
   "metadata": {},
   "source": [
    "Lets clean this up to be able to submit it to Kaggle.  Need it to be in a space delimited list, with 2 columns 'id, attr'"
   ]
  },
  {
   "cell_type": "code",
   "execution_count": 87,
   "metadata": {},
   "outputs": [],
   "source": [
    "with open(\"attr_pred_submission.csv\", 'w') as out:\n",
    "    out.write(\"id,attr\")\n",
    "    out.write('\\r')\n",
    "    for key, val in vals.items():\n",
    "        out.write(str(key) + \",\" + \" \".join(k+\":\"+v for k,v in val.items()))\n",
    "        out.write('\\r')"
   ]
  },
  {
   "cell_type": "markdown",
   "metadata": {},
   "source": [
    "<h3> Homophily </h3>"
   ]
  },
  {
   "cell_type": "markdown",
   "metadata": {},
   "source": [
    "Here we want to determine a measure of how well do similar nodes group together across the network.  I am taking a simple approach of just looking at nearby neighbors and seeing how similar are:\n",
    " - their attributes\n",
    " - the values associated with the attributes\n",
    " \n",
    "I do this by simply creating ratios if the nearby nodes have the same attr/value pairs as the node we are examining and then averaging across a subset of the network."
   ]
  },
  {
   "cell_type": "code",
   "execution_count": 132,
   "metadata": {},
   "outputs": [
    {
     "name": "stdout",
     "output_type": "stream",
     "text": [
      "Wall time: 427 ms\n"
     ]
    }
   ],
   "source": [
    "%%time\n",
    "#take a sample of the network since it's big!\n",
    "import random\n",
    "\n",
    "sample_size = int(len(G.node)*.01)\n",
    "\n",
    "sampled_nodes = random.sample(G.nodes, sample_size)"
   ]
  },
  {
   "cell_type": "code",
   "execution_count": 133,
   "metadata": {},
   "outputs": [
    {
     "name": "stdout",
     "output_type": "stream",
     "text": [
      "Wall time: 58.8 s\n"
     ]
    }
   ],
   "source": [
    "%%time\n",
    "class_sim_scores = []\n",
    "#we want to identify:\n",
    "    #for a given node, what % of it's neighbors have the same attributes\n",
    "    #for a given node, for the neighbors that share the same attributes, what % of those are the same?\n",
    "\n",
    "for node in sampled_nodes:\n",
    "    similar_neighbors = .00001 #to offset divide by 0 issues\n",
    "    similar_values = 0\n",
    "    #we will use sets to compare if the nodes have the same attribute values\n",
    "    node_attr_set = set(G.node[node].values())\n",
    "    for n in G.neighbors(node):\n",
    "        try: \n",
    "            #if the node has the same keys (attrs) as it's neighbor, log it\n",
    "            if G.node[node].keys() == G.node[n].keys():\n",
    "                similar_neighbors += 1\n",
    "                \n",
    "                #since we know the two nodes have the same attributes,\n",
    "                #check if the attributes are the same\n",
    "                n_attr_set = set(G.node[n].values())\n",
    "                \n",
    "                if node_attr_set == n_attr_set:\n",
    "                    similar_values += 1            \n",
    "        except:\n",
    "            pass\n",
    "    \n",
    "    #for easier understanding - we are storing the class_type (what attributes the node had)\n",
    "    #the class ratio - neighbors with similar attr/all neighbors\n",
    "    #value ratio - similar neighbors with similar values/similar neighbors\n",
    "    class_type = ''.join(str(elem) for elem in list(G.node[node]))\n",
    "    similar_class_ratio = similar_neighbors/len(list(G.neighbors(node)))\n",
    "    similar_val_ratio = similar_values/similar_neighbors\n",
    "        \n",
    "    class_sim_scores.append((class_type, similar_class_ratio, similar_val_ratio))\n"
   ]
  },
  {
   "cell_type": "code",
   "execution_count": 134,
   "metadata": {},
   "outputs": [],
   "source": [
    "class_sim_df = pd.DataFrame.from_records(class_sim_scores, columns=['Class', '%SimilarNeighbors', '%SimilarValues'])"
   ]
  },
  {
   "cell_type": "code",
   "execution_count": 135,
   "metadata": {},
   "outputs": [
    {
     "data": {
      "text/html": [
       "<div>\n",
       "<style scoped>\n",
       "    .dataframe tbody tr th:only-of-type {\n",
       "        vertical-align: middle;\n",
       "    }\n",
       "\n",
       "    .dataframe tbody tr th {\n",
       "        vertical-align: top;\n",
       "    }\n",
       "\n",
       "    .dataframe thead th {\n",
       "        text-align: right;\n",
       "    }\n",
       "</style>\n",
       "<table border=\"1\" class=\"dataframe\">\n",
       "  <thead>\n",
       "    <tr style=\"text-align: right;\">\n",
       "      <th></th>\n",
       "      <th>Class</th>\n",
       "      <th>%SimilarNeighbors</th>\n",
       "      <th>%SimilarValues</th>\n",
       "    </tr>\n",
       "  </thead>\n",
       "  <tbody>\n",
       "    <tr>\n",
       "      <th>0</th>\n",
       "      <td>T0T1</td>\n",
       "      <td>0.666670</td>\n",
       "      <td>0.000000</td>\n",
       "    </tr>\n",
       "    <tr>\n",
       "      <th>1</th>\n",
       "      <td>T0T1</td>\n",
       "      <td>0.333337</td>\n",
       "      <td>0.999990</td>\n",
       "    </tr>\n",
       "    <tr>\n",
       "      <th>2</th>\n",
       "      <td>T0T1</td>\n",
       "      <td>0.836364</td>\n",
       "      <td>0.007246</td>\n",
       "    </tr>\n",
       "    <tr>\n",
       "      <th>3</th>\n",
       "      <td>T0T1</td>\n",
       "      <td>1.000001</td>\n",
       "      <td>0.285714</td>\n",
       "    </tr>\n",
       "    <tr>\n",
       "      <th>4</th>\n",
       "      <td>T0T1</td>\n",
       "      <td>0.968750</td>\n",
       "      <td>0.064516</td>\n",
       "    </tr>\n",
       "  </tbody>\n",
       "</table>\n",
       "</div>"
      ],
      "text/plain": [
       "  Class  %SimilarNeighbors  %SimilarValues\n",
       "0  T0T1           0.666670        0.000000\n",
       "1  T0T1           0.333337        0.999990\n",
       "2  T0T1           0.836364        0.007246\n",
       "3  T0T1           1.000001        0.285714\n",
       "4  T0T1           0.968750        0.064516"
      ]
     },
     "execution_count": 135,
     "metadata": {},
     "output_type": "execute_result"
    }
   ],
   "source": [
    "class_sim_df.head()"
   ]
  },
  {
   "cell_type": "code",
   "execution_count": 136,
   "metadata": {},
   "outputs": [
    {
     "data": {
      "text/html": [
       "<div>\n",
       "<style scoped>\n",
       "    .dataframe tbody tr th:only-of-type {\n",
       "        vertical-align: middle;\n",
       "    }\n",
       "\n",
       "    .dataframe tbody tr th {\n",
       "        vertical-align: top;\n",
       "    }\n",
       "\n",
       "    .dataframe thead th {\n",
       "        text-align: right;\n",
       "    }\n",
       "</style>\n",
       "<table border=\"1\" class=\"dataframe\">\n",
       "  <thead>\n",
       "    <tr style=\"text-align: right;\">\n",
       "      <th></th>\n",
       "      <th>%SimilarNeighbors</th>\n",
       "      <th>%SimilarValues</th>\n",
       "      <th>Class</th>\n",
       "    </tr>\n",
       "    <tr>\n",
       "      <th>Class</th>\n",
       "      <th></th>\n",
       "      <th></th>\n",
       "      <th></th>\n",
       "    </tr>\n",
       "  </thead>\n",
       "  <tbody>\n",
       "    <tr>\n",
       "      <th></th>\n",
       "      <td>0.104552</td>\n",
       "      <td>0.140255</td>\n",
       "      <td>13240</td>\n",
       "    </tr>\n",
       "    <tr>\n",
       "      <th>T0T1</th>\n",
       "      <td>0.915477</td>\n",
       "      <td>0.485813</td>\n",
       "      <td>51602</td>\n",
       "    </tr>\n",
       "    <tr>\n",
       "      <th>T0T1T8</th>\n",
       "      <td>0.089678</td>\n",
       "      <td>0.126030</td>\n",
       "      <td>1425</td>\n",
       "    </tr>\n",
       "  </tbody>\n",
       "</table>\n",
       "</div>"
      ],
      "text/plain": [
       "        %SimilarNeighbors  %SimilarValues  Class\n",
       "Class                                           \n",
       "                 0.104552        0.140255  13240\n",
       "T0T1             0.915477        0.485813  51602\n",
       "T0T1T8           0.089678        0.126030   1425"
      ]
     },
     "execution_count": 136,
     "metadata": {},
     "output_type": "execute_result"
    }
   ],
   "source": [
    "class_sim_df.groupby('Class').agg({'%SimilarNeighbors' : 'mean', '%SimilarValues' : 'mean', 'Class' : 'count'})"
   ]
  },
  {
   "cell_type": "markdown",
   "metadata": {},
   "source": [
    "<h3> Development Dataset - Testing Predictions </h3>"
   ]
  },
  {
   "cell_type": "code",
   "execution_count": 6,
   "metadata": {},
   "outputs": [
    {
     "name": "stdout",
     "output_type": "stream",
     "text": [
      "Wall time: 629 ms\n"
     ]
    }
   ],
   "source": [
    "%%time\n",
    "dev_df = pd.read_csv('C:/Users/Chris/Desktop/SI671Data/labeled-vertices.dev.tsv', sep='\\t', names=['node', 'attr'])"
   ]
  },
  {
   "cell_type": "code",
   "execution_count": 7,
   "metadata": {},
   "outputs": [],
   "source": [
    "dev_df_s = dev_df.sample(frac=.1)"
   ]
  },
  {
   "cell_type": "code",
   "execution_count": 8,
   "metadata": {},
   "outputs": [],
   "source": [
    "nodes_to_test = list(dev_df_s['node'])"
   ]
  },
  {
   "cell_type": "markdown",
   "metadata": {},
   "source": [
    "60% of the nodes in the dev sample only have 1 connection.  This is at odds with the actual network.  Need to branch out probably."
   ]
  },
  {
   "cell_type": "code",
   "execution_count": 75,
   "metadata": {},
   "outputs": [
    {
     "data": {
      "text/html": [
       "<div>\n",
       "<style scoped>\n",
       "    .dataframe tbody tr th:only-of-type {\n",
       "        vertical-align: middle;\n",
       "    }\n",
       "\n",
       "    .dataframe tbody tr th {\n",
       "        vertical-align: top;\n",
       "    }\n",
       "\n",
       "    .dataframe thead th {\n",
       "        text-align: right;\n",
       "    }\n",
       "</style>\n",
       "<table border=\"1\" class=\"dataframe\">\n",
       "  <thead>\n",
       "    <tr style=\"text-align: right;\">\n",
       "      <th></th>\n",
       "      <th>node</th>\n",
       "      <th>percents</th>\n",
       "    </tr>\n",
       "    <tr>\n",
       "      <th>degree</th>\n",
       "      <th></th>\n",
       "      <th></th>\n",
       "    </tr>\n",
       "  </thead>\n",
       "  <tbody>\n",
       "    <tr>\n",
       "      <th>1</th>\n",
       "      <td>422573</td>\n",
       "      <td>0.637678</td>\n",
       "    </tr>\n",
       "    <tr>\n",
       "      <th>2</th>\n",
       "      <td>147581</td>\n",
       "      <td>0.222705</td>\n",
       "    </tr>\n",
       "    <tr>\n",
       "      <th>3</th>\n",
       "      <td>56159</td>\n",
       "      <td>0.084746</td>\n",
       "    </tr>\n",
       "    <tr>\n",
       "      <th>4</th>\n",
       "      <td>21504</td>\n",
       "      <td>0.032450</td>\n",
       "    </tr>\n",
       "    <tr>\n",
       "      <th>5</th>\n",
       "      <td>8716</td>\n",
       "      <td>0.013153</td>\n",
       "    </tr>\n",
       "  </tbody>\n",
       "</table>\n",
       "</div>"
      ],
      "text/plain": [
       "          node  percents\n",
       "degree                  \n",
       "1       422573  0.637678\n",
       "2       147581  0.222705\n",
       "3        56159  0.084746\n",
       "4        21504  0.032450\n",
       "5         8716  0.013153"
      ]
     },
     "execution_count": 75,
     "metadata": {},
     "output_type": "execute_result"
    }
   ],
   "source": [
    "test3 = pd.DataFrame(list(G.degree(nodes_to_test)), columns = ['node', 'degree'])\n",
    "test3 = test3.groupby('degree').count()\n",
    "test3['percents'] = test3['node']/np.sum(test3['node'])\n",
    "test3.head()"
   ]
  },
  {
   "cell_type": "markdown",
   "metadata": {},
   "source": [
    "Predicting attributes with this approach might not work very well because 30% of the nodes in the network only have 1 connection.  Maybe go out to second-level connections for them?"
   ]
  },
  {
   "cell_type": "code",
   "execution_count": 61,
   "metadata": {},
   "outputs": [],
   "source": [
    "test = pd.DataFrame(list(G.degree()), columns = ['node', 'degree'])"
   ]
  },
  {
   "cell_type": "code",
   "execution_count": 67,
   "metadata": {},
   "outputs": [
    {
     "data": {
      "text/html": [
       "<div>\n",
       "<style scoped>\n",
       "    .dataframe tbody tr th:only-of-type {\n",
       "        vertical-align: middle;\n",
       "    }\n",
       "\n",
       "    .dataframe tbody tr th {\n",
       "        vertical-align: top;\n",
       "    }\n",
       "\n",
       "    .dataframe thead th {\n",
       "        text-align: right;\n",
       "    }\n",
       "</style>\n",
       "<table border=\"1\" class=\"dataframe\">\n",
       "  <thead>\n",
       "    <tr style=\"text-align: right;\">\n",
       "      <th></th>\n",
       "      <th>node</th>\n",
       "      <th>percents</th>\n",
       "    </tr>\n",
       "    <tr>\n",
       "      <th>degree</th>\n",
       "      <th></th>\n",
       "      <th></th>\n",
       "    </tr>\n",
       "  </thead>\n",
       "  <tbody>\n",
       "    <tr>\n",
       "      <th>1</th>\n",
       "      <td>2014881</td>\n",
       "      <td>0.304053</td>\n",
       "    </tr>\n",
       "    <tr>\n",
       "      <th>2</th>\n",
       "      <td>903945</td>\n",
       "      <td>0.136408</td>\n",
       "    </tr>\n",
       "    <tr>\n",
       "      <th>3</th>\n",
       "      <td>570686</td>\n",
       "      <td>0.086118</td>\n",
       "    </tr>\n",
       "    <tr>\n",
       "      <th>4</th>\n",
       "      <td>406171</td>\n",
       "      <td>0.061293</td>\n",
       "    </tr>\n",
       "    <tr>\n",
       "      <th>5</th>\n",
       "      <td>312170</td>\n",
       "      <td>0.047108</td>\n",
       "    </tr>\n",
       "  </tbody>\n",
       "</table>\n",
       "</div>"
      ],
      "text/plain": [
       "           node  percents\n",
       "degree                   \n",
       "1       2014881  0.304053\n",
       "2        903945  0.136408\n",
       "3        570686  0.086118\n",
       "4        406171  0.061293\n",
       "5        312170  0.047108"
      ]
     },
     "execution_count": 67,
     "metadata": {},
     "output_type": "execute_result"
    }
   ],
   "source": [
    "test2 = test.groupby('degree').count()\n",
    "test2['percents'] = test2['node']/np.sum(test2['node'])\n",
    "test2.head()"
   ]
  },
  {
   "cell_type": "code",
   "execution_count": 10,
   "metadata": {},
   "outputs": [
    {
     "name": "stdout",
     "output_type": "stream",
     "text": [
      "Wall time: 1min 57s\n"
     ]
    }
   ],
   "source": [
    "%%time\n",
    "preds = PredictAttributes(G, test_nodes=nodes_to_test, max_iter = len(nodes_to_test))"
   ]
  },
  {
   "cell_type": "markdown",
   "metadata": {},
   "source": [
    "Now that we have predictions, we need labeled data in the right format to compare it to.  Convert labeled data to a dict"
   ]
  },
  {
   "cell_type": "code",
   "execution_count": 12,
   "metadata": {},
   "outputs": [
    {
     "name": "stdout",
     "output_type": "stream",
     "text": [
      "Wall time: 2.16 s\n"
     ]
    }
   ],
   "source": [
    "%%time\n",
    "def ConvertAttrsToDict(node, attrs):\n",
    "    labeled_dict = {}\n",
    "    #node = \"662674\"\n",
    "    #test = \"T0:0 T1:629\"\n",
    "\n",
    "    vals = dict(item.split(\":\") for item in attrs.split(\" \"))\n",
    "\n",
    "    labeled_dict[node] = vals\n",
    "    \n",
    "    return labeled_dict\n",
    "\n",
    "test = dev_df_s.apply(lambda row : ConvertAttrsToDict(row['node'], row['attr']), axis=1)\n",
    "\n",
    "#convert to dictionary where node is the key for comparision/scoring\n",
    "labeled_dict = {}\n",
    "for val in test.values:\n",
    "    for k, v in val.items():\n",
    "        labeled_dict[k] = v\n",
    "    \n",
    "labeled_dict"
   ]
  },
  {
   "cell_type": "code",
   "execution_count": 53,
   "metadata": {},
   "outputs": [],
   "source": [
    "results = [Score(dic, labeled_dict[node]) for node, dic in preds.items()]\n"
   ]
  },
  {
   "cell_type": "code",
   "execution_count": 68,
   "metadata": {},
   "outputs": [
    {
     "data": {
      "text/html": [
       "<div>\n",
       "<style scoped>\n",
       "    .dataframe tbody tr th:only-of-type {\n",
       "        vertical-align: middle;\n",
       "    }\n",
       "\n",
       "    .dataframe tbody tr th {\n",
       "        vertical-align: top;\n",
       "    }\n",
       "\n",
       "    .dataframe thead th {\n",
       "        text-align: right;\n",
       "    }\n",
       "</style>\n",
       "<table border=\"1\" class=\"dataframe\">\n",
       "  <thead>\n",
       "    <tr style=\"text-align: right;\">\n",
       "      <th></th>\n",
       "      <th></th>\n",
       "      <th>attr</th>\n",
       "    </tr>\n",
       "    <tr>\n",
       "      <th>result</th>\n",
       "      <th>attr</th>\n",
       "      <th></th>\n",
       "    </tr>\n",
       "  </thead>\n",
       "  <tbody>\n",
       "    <tr>\n",
       "      <th rowspan=\"3\" valign=\"top\">1</th>\n",
       "      <th>T0</th>\n",
       "      <td>38525</td>\n",
       "    </tr>\n",
       "    <tr>\n",
       "      <th>T1</th>\n",
       "      <td>38525</td>\n",
       "    </tr>\n",
       "    <tr>\n",
       "      <th>T8</th>\n",
       "      <td>64</td>\n",
       "    </tr>\n",
       "    <tr>\n",
       "      <th rowspan=\"3\" valign=\"top\">2</th>\n",
       "      <th>T0</th>\n",
       "      <td>874</td>\n",
       "    </tr>\n",
       "    <tr>\n",
       "      <th>T1</th>\n",
       "      <td>17215</td>\n",
       "    </tr>\n",
       "    <tr>\n",
       "      <th>T8</th>\n",
       "      <td>32</td>\n",
       "    </tr>\n",
       "    <tr>\n",
       "      <th>3</th>\n",
       "      <th>T8</th>\n",
       "      <td>5005</td>\n",
       "    </tr>\n",
       "  </tbody>\n",
       "</table>\n",
       "</div>"
      ],
      "text/plain": [
       "              attr\n",
       "result attr       \n",
       "1      T0    38525\n",
       "       T1    38525\n",
       "       T8       64\n",
       "2      T0      874\n",
       "       T1    17215\n",
       "       T8       32\n",
       "3      T8     5005"
      ]
     },
     "execution_count": 68,
     "metadata": {},
     "output_type": "execute_result"
    }
   ],
   "source": [
    "result_list = []\n",
    "for result in results:\n",
    "    for r in result:\n",
    "        result_list.append(r)\n",
    "results_df = pd.DataFrame(result_list, columns=['result', 'attr'])\n",
    "results_grouped = results_df.groupby(['result', 'attr'])[['attr']].count()\n",
    "results_grouped"
   ]
  },
  {
   "cell_type": "code",
   "execution_count": 70,
   "metadata": {},
   "outputs": [
    {
     "data": {
      "text/html": [
       "<div>\n",
       "<style scoped>\n",
       "    .dataframe tbody tr th:only-of-type {\n",
       "        vertical-align: middle;\n",
       "    }\n",
       "\n",
       "    .dataframe tbody tr th {\n",
       "        vertical-align: top;\n",
       "    }\n",
       "\n",
       "    .dataframe thead th {\n",
       "        text-align: right;\n",
       "    }\n",
       "</style>\n",
       "<table border=\"1\" class=\"dataframe\">\n",
       "  <thead>\n",
       "    <tr style=\"text-align: right;\">\n",
       "      <th></th>\n",
       "      <th>result</th>\n",
       "    </tr>\n",
       "    <tr>\n",
       "      <th>attr</th>\n",
       "      <th></th>\n",
       "    </tr>\n",
       "  </thead>\n",
       "  <tbody>\n",
       "    <tr>\n",
       "      <th>T0</th>\n",
       "      <td>39399</td>\n",
       "    </tr>\n",
       "    <tr>\n",
       "      <th>T1</th>\n",
       "      <td>55740</td>\n",
       "    </tr>\n",
       "    <tr>\n",
       "      <th>T8</th>\n",
       "      <td>5101</td>\n",
       "    </tr>\n",
       "  </tbody>\n",
       "</table>\n",
       "</div>"
      ],
      "text/plain": [
       "      result\n",
       "attr        \n",
       "T0     39399\n",
       "T1     55740\n",
       "T8      5101"
      ]
     },
     "execution_count": 70,
     "metadata": {},
     "output_type": "execute_result"
    }
   ],
   "source": [
    "results_df.groupby('attr').count()"
   ]
  },
  {
   "cell_type": "code",
   "execution_count": 52,
   "metadata": {},
   "outputs": [],
   "source": [
    "def Score(dict1, dict2):\n",
    "    '''\n",
    "    returns: a list of tuples that indicates what the error was and what attrs the error was on\n",
    "    list((1,correct attrs)) - got the prediction right!\n",
    "    list((2,wrong values)) - got the attrs right, but values wrong\n",
    "    list((3,wrong attrs)) - got the attrs wrong\n",
    "    '''\n",
    "    if dict1.keys() == dict2.keys():\n",
    "        #the attributes are the same!\n",
    "        if set(dict1.values()) == set(dict2.values()):\n",
    "            #the values are the same! correct prediction\n",
    "            correct_attrs = [(1,attr) for attr in list(dict1.keys())]\n",
    "            return correct_attrs\n",
    "        else:\n",
    "            wrong_vals = []\n",
    "            for attr in dict1.keys():\n",
    "                #if the values arent equal, record what attr we messed up\n",
    "                if dict1[attr] != dict2[attr]:\n",
    "                    wrong_vals.append((2,attr))\n",
    "            return(wrong_vals)\n",
    "    else:\n",
    "        #where were the keys different?\n",
    "        wrong_attrs = [(3,attr) for attr in list(set(dict1.keys())-set(dict2.keys()))]\n",
    "        return wrong_attrs "
   ]
  },
  {
   "cell_type": "code",
   "execution_count": null,
   "metadata": {},
   "outputs": [],
   "source": []
  }
 ],
 "metadata": {
  "kernelspec": {
   "display_name": "Python 3",
   "language": "python",
   "name": "python3"
  },
  "language_info": {
   "codemirror_mode": {
    "name": "ipython",
    "version": 3
   },
   "file_extension": ".py",
   "mimetype": "text/x-python",
   "name": "python",
   "nbconvert_exporter": "python",
   "pygments_lexer": "ipython3",
   "version": "3.6.6"
  }
 },
 "nbformat": 4,
 "nbformat_minor": 2
}
